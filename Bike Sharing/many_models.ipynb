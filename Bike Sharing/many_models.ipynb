{
 "cells": [
  {
   "cell_type": "code",
   "execution_count": 1,
   "metadata": {
    "ExecuteTime": {
     "end_time": "2021-08-19T06:55:55.199164Z",
     "start_time": "2021-08-19T06:55:50.925665Z"
    }
   },
   "outputs": [],
   "source": [
    "import pandas as pd\n",
    "import numpy as np\n",
    "\n",
    "import matplotlib as mpl\n",
    "import matplotlib.pyplot as plt\n",
    "import seaborn as sns\n",
    "\n",
    "mpl.rcParams['axes.unicode_minus']=False\n",
    "\n",
    "import warnings\n",
    "warnings.filterwarnings('ignore')"
   ]
  },
  {
   "cell_type": "code",
   "execution_count": 2,
   "metadata": {
    "ExecuteTime": {
     "end_time": "2021-08-19T06:55:55.731130Z",
     "start_time": "2021-08-19T06:55:55.601793Z"
    }
   },
   "outputs": [
    {
     "data": {
      "text/plain": [
       "(10886, 12)"
      ]
     },
     "execution_count": 2,
     "metadata": {},
     "output_type": "execute_result"
    }
   ],
   "source": [
    "train = pd.read_csv('train.csv', parse_dates=['datetime'])\n",
    "train.shape"
   ]
  },
  {
   "cell_type": "code",
   "execution_count": 3,
   "metadata": {
    "ExecuteTime": {
     "end_time": "2021-08-19T06:56:00.280110Z",
     "start_time": "2021-08-19T06:56:00.150936Z"
    }
   },
   "outputs": [
    {
     "data": {
      "text/plain": [
       "(6493, 9)"
      ]
     },
     "execution_count": 3,
     "metadata": {},
     "output_type": "execute_result"
    }
   ],
   "source": [
    "test = pd.read_csv('test.csv', parse_dates=['datetime'])\n",
    "test.shape"
   ]
  },
  {
   "cell_type": "code",
   "execution_count": 4,
   "metadata": {
    "ExecuteTime": {
     "end_time": "2021-08-19T06:56:38.466660Z",
     "start_time": "2021-08-19T06:56:38.447626Z"
    }
   },
   "outputs": [
    {
     "data": {
      "text/plain": [
       "(10886, 16)"
      ]
     },
     "execution_count": 4,
     "metadata": {},
     "output_type": "execute_result"
    }
   ],
   "source": [
    "train['year'] = train['datetime'].dt.year\n",
    "train['month'] = train['datetime'].dt.month\n",
    "train['hour'] = train['datetime'].dt.hour\n",
    "train['dayofweek'] = train['datetime'].dt.dayofweek\n",
    "train.shape"
   ]
  },
  {
   "cell_type": "code",
   "execution_count": 5,
   "metadata": {
    "ExecuteTime": {
     "end_time": "2021-08-19T06:56:48.369437Z",
     "start_time": "2021-08-19T06:56:48.334398Z"
    }
   },
   "outputs": [
    {
     "data": {
      "text/plain": [
       "(6493, 13)"
      ]
     },
     "execution_count": 5,
     "metadata": {},
     "output_type": "execute_result"
    }
   ],
   "source": [
    "test['year'] = test['datetime'].dt.year\n",
    "test['month'] = test['datetime'].dt.month\n",
    "test['hour'] = test['datetime'].dt.hour\n",
    "test['dayofweek'] = test['datetime'].dt.dayofweek\n",
    "test.shape"
   ]
  },
  {
   "cell_type": "code",
   "execution_count": 6,
   "metadata": {
    "ExecuteTime": {
     "end_time": "2021-08-19T06:57:19.875647Z",
     "start_time": "2021-08-19T06:57:19.767616Z"
    }
   },
   "outputs": [],
   "source": [
    "categorical_feature_names = ['season','holiday','workingday',\n",
    "                            'weather','dayofweek','month','year','hour']\n",
    "\n",
    "for var in categorical_feature_names:\n",
    "    train[var] = train[var].astype('category')\n",
    "    test[var] = test[var].astype('category')"
   ]
  },
  {
   "cell_type": "code",
   "execution_count": 7,
   "metadata": {
    "ExecuteTime": {
     "end_time": "2021-08-19T06:57:45.408598Z",
     "start_time": "2021-08-19T06:57:45.384561Z"
    }
   },
   "outputs": [
    {
     "data": {
      "text/plain": [
       "['season',\n",
       " 'weather',\n",
       " 'temp',\n",
       " 'atemp',\n",
       " 'humidity',\n",
       " 'year',\n",
       " 'hour',\n",
       " 'dayofweek',\n",
       " 'holiday',\n",
       " 'workingday']"
      ]
     },
     "execution_count": 7,
     "metadata": {},
     "output_type": "execute_result"
    }
   ],
   "source": [
    "feature_names = ['season','weather','temp','atemp','humidity',\n",
    "                'year','hour','dayofweek','holiday','workingday']\n",
    "feature_names"
   ]
  },
  {
   "cell_type": "code",
   "execution_count": 10,
   "metadata": {
    "ExecuteTime": {
     "end_time": "2021-08-19T06:58:19.067520Z",
     "start_time": "2021-08-19T06:58:18.975860Z"
    }
   },
   "outputs": [
    {
     "data": {
      "text/html": [
       "<div>\n",
       "<style scoped>\n",
       "    .dataframe tbody tr th:only-of-type {\n",
       "        vertical-align: middle;\n",
       "    }\n",
       "\n",
       "    .dataframe tbody tr th {\n",
       "        vertical-align: top;\n",
       "    }\n",
       "\n",
       "    .dataframe thead th {\n",
       "        text-align: right;\n",
       "    }\n",
       "</style>\n",
       "<table border=\"1\" class=\"dataframe\">\n",
       "  <thead>\n",
       "    <tr style=\"text-align: right;\">\n",
       "      <th></th>\n",
       "      <th>season</th>\n",
       "      <th>weather</th>\n",
       "      <th>temp</th>\n",
       "      <th>atemp</th>\n",
       "      <th>humidity</th>\n",
       "      <th>year</th>\n",
       "      <th>hour</th>\n",
       "      <th>dayofweek</th>\n",
       "      <th>holiday</th>\n",
       "      <th>workingday</th>\n",
       "    </tr>\n",
       "  </thead>\n",
       "  <tbody>\n",
       "    <tr>\n",
       "      <th>0</th>\n",
       "      <td>1</td>\n",
       "      <td>1</td>\n",
       "      <td>9.84</td>\n",
       "      <td>14.395</td>\n",
       "      <td>81</td>\n",
       "      <td>2011</td>\n",
       "      <td>0</td>\n",
       "      <td>5</td>\n",
       "      <td>0</td>\n",
       "      <td>0</td>\n",
       "    </tr>\n",
       "    <tr>\n",
       "      <th>1</th>\n",
       "      <td>1</td>\n",
       "      <td>1</td>\n",
       "      <td>9.02</td>\n",
       "      <td>13.635</td>\n",
       "      <td>80</td>\n",
       "      <td>2011</td>\n",
       "      <td>1</td>\n",
       "      <td>5</td>\n",
       "      <td>0</td>\n",
       "      <td>0</td>\n",
       "    </tr>\n",
       "    <tr>\n",
       "      <th>2</th>\n",
       "      <td>1</td>\n",
       "      <td>1</td>\n",
       "      <td>9.02</td>\n",
       "      <td>13.635</td>\n",
       "      <td>80</td>\n",
       "      <td>2011</td>\n",
       "      <td>2</td>\n",
       "      <td>5</td>\n",
       "      <td>0</td>\n",
       "      <td>0</td>\n",
       "    </tr>\n",
       "    <tr>\n",
       "      <th>3</th>\n",
       "      <td>1</td>\n",
       "      <td>1</td>\n",
       "      <td>9.84</td>\n",
       "      <td>14.395</td>\n",
       "      <td>75</td>\n",
       "      <td>2011</td>\n",
       "      <td>3</td>\n",
       "      <td>5</td>\n",
       "      <td>0</td>\n",
       "      <td>0</td>\n",
       "    </tr>\n",
       "    <tr>\n",
       "      <th>4</th>\n",
       "      <td>1</td>\n",
       "      <td>1</td>\n",
       "      <td>9.84</td>\n",
       "      <td>14.395</td>\n",
       "      <td>75</td>\n",
       "      <td>2011</td>\n",
       "      <td>4</td>\n",
       "      <td>5</td>\n",
       "      <td>0</td>\n",
       "      <td>0</td>\n",
       "    </tr>\n",
       "  </tbody>\n",
       "</table>\n",
       "</div>"
      ],
      "text/plain": [
       "  season weather  temp   atemp  humidity  year hour dayofweek holiday  \\\n",
       "0      1       1  9.84  14.395        81  2011    0         5       0   \n",
       "1      1       1  9.02  13.635        80  2011    1         5       0   \n",
       "2      1       1  9.02  13.635        80  2011    2         5       0   \n",
       "3      1       1  9.84  14.395        75  2011    3         5       0   \n",
       "4      1       1  9.84  14.395        75  2011    4         5       0   \n",
       "\n",
       "  workingday  \n",
       "0          0  \n",
       "1          0  \n",
       "2          0  \n",
       "3          0  \n",
       "4          0  "
      ]
     },
     "execution_count": 10,
     "metadata": {},
     "output_type": "execute_result"
    }
   ],
   "source": [
    "X_train = train[feature_names]\n",
    "X_train.head()"
   ]
  },
  {
   "cell_type": "code",
   "execution_count": 11,
   "metadata": {
    "ExecuteTime": {
     "end_time": "2021-08-19T06:58:28.870077Z",
     "start_time": "2021-08-19T06:58:28.775497Z"
    }
   },
   "outputs": [
    {
     "data": {
      "text/html": [
       "<div>\n",
       "<style scoped>\n",
       "    .dataframe tbody tr th:only-of-type {\n",
       "        vertical-align: middle;\n",
       "    }\n",
       "\n",
       "    .dataframe tbody tr th {\n",
       "        vertical-align: top;\n",
       "    }\n",
       "\n",
       "    .dataframe thead th {\n",
       "        text-align: right;\n",
       "    }\n",
       "</style>\n",
       "<table border=\"1\" class=\"dataframe\">\n",
       "  <thead>\n",
       "    <tr style=\"text-align: right;\">\n",
       "      <th></th>\n",
       "      <th>season</th>\n",
       "      <th>weather</th>\n",
       "      <th>temp</th>\n",
       "      <th>atemp</th>\n",
       "      <th>humidity</th>\n",
       "      <th>year</th>\n",
       "      <th>hour</th>\n",
       "      <th>dayofweek</th>\n",
       "      <th>holiday</th>\n",
       "      <th>workingday</th>\n",
       "    </tr>\n",
       "  </thead>\n",
       "  <tbody>\n",
       "    <tr>\n",
       "      <th>0</th>\n",
       "      <td>1</td>\n",
       "      <td>1</td>\n",
       "      <td>10.66</td>\n",
       "      <td>11.365</td>\n",
       "      <td>56</td>\n",
       "      <td>2011</td>\n",
       "      <td>0</td>\n",
       "      <td>3</td>\n",
       "      <td>0</td>\n",
       "      <td>1</td>\n",
       "    </tr>\n",
       "    <tr>\n",
       "      <th>1</th>\n",
       "      <td>1</td>\n",
       "      <td>1</td>\n",
       "      <td>10.66</td>\n",
       "      <td>13.635</td>\n",
       "      <td>56</td>\n",
       "      <td>2011</td>\n",
       "      <td>1</td>\n",
       "      <td>3</td>\n",
       "      <td>0</td>\n",
       "      <td>1</td>\n",
       "    </tr>\n",
       "    <tr>\n",
       "      <th>2</th>\n",
       "      <td>1</td>\n",
       "      <td>1</td>\n",
       "      <td>10.66</td>\n",
       "      <td>13.635</td>\n",
       "      <td>56</td>\n",
       "      <td>2011</td>\n",
       "      <td>2</td>\n",
       "      <td>3</td>\n",
       "      <td>0</td>\n",
       "      <td>1</td>\n",
       "    </tr>\n",
       "    <tr>\n",
       "      <th>3</th>\n",
       "      <td>1</td>\n",
       "      <td>1</td>\n",
       "      <td>10.66</td>\n",
       "      <td>12.880</td>\n",
       "      <td>56</td>\n",
       "      <td>2011</td>\n",
       "      <td>3</td>\n",
       "      <td>3</td>\n",
       "      <td>0</td>\n",
       "      <td>1</td>\n",
       "    </tr>\n",
       "    <tr>\n",
       "      <th>4</th>\n",
       "      <td>1</td>\n",
       "      <td>1</td>\n",
       "      <td>10.66</td>\n",
       "      <td>12.880</td>\n",
       "      <td>56</td>\n",
       "      <td>2011</td>\n",
       "      <td>4</td>\n",
       "      <td>3</td>\n",
       "      <td>0</td>\n",
       "      <td>1</td>\n",
       "    </tr>\n",
       "  </tbody>\n",
       "</table>\n",
       "</div>"
      ],
      "text/plain": [
       "  season weather   temp   atemp  humidity  year hour dayofweek holiday  \\\n",
       "0      1       1  10.66  11.365        56  2011    0         3       0   \n",
       "1      1       1  10.66  13.635        56  2011    1         3       0   \n",
       "2      1       1  10.66  13.635        56  2011    2         3       0   \n",
       "3      1       1  10.66  12.880        56  2011    3         3       0   \n",
       "4      1       1  10.66  12.880        56  2011    4         3       0   \n",
       "\n",
       "  workingday  \n",
       "0          1  \n",
       "1          1  \n",
       "2          1  \n",
       "3          1  \n",
       "4          1  "
      ]
     },
     "execution_count": 11,
     "metadata": {},
     "output_type": "execute_result"
    }
   ],
   "source": [
    "X_test = test[feature_names]\n",
    "X_test.head()"
   ]
  },
  {
   "cell_type": "code",
   "execution_count": 12,
   "metadata": {
    "ExecuteTime": {
     "end_time": "2021-08-19T06:58:37.589719Z",
     "start_time": "2021-08-19T06:58:37.575691Z"
    }
   },
   "outputs": [
    {
     "data": {
      "text/plain": [
       "0    16\n",
       "1    40\n",
       "2    32\n",
       "3    13\n",
       "4     1\n",
       "Name: count, dtype: int64"
      ]
     },
     "execution_count": 12,
     "metadata": {},
     "output_type": "execute_result"
    }
   ],
   "source": [
    "label_name = 'count'\n",
    "\n",
    "y_train = train[label_name]\n",
    "\n",
    "y_train.head()"
   ]
  },
  {
   "cell_type": "code",
   "execution_count": 13,
   "metadata": {
    "ExecuteTime": {
     "end_time": "2021-08-19T06:58:56.403357Z",
     "start_time": "2021-08-19T06:58:53.559377Z"
    }
   },
   "outputs": [
    {
     "data": {
      "text/plain": [
       "make_scorer(rmsle)"
      ]
     },
     "execution_count": 13,
     "metadata": {},
     "output_type": "execute_result"
    }
   ],
   "source": [
    "from sklearn.metrics import make_scorer\n",
    "\n",
    "def rmsle(predicted_values, actual_values):\n",
    "    # 넘파이로 배열 형태로 바꿔준다.\n",
    "    predicted_values = np.array(predicted_values)\n",
    "    actual_values = np.array(actual_values)\n",
    "    \n",
    "    # 예측값과 실제 값에 1을 더하고 로그를 씌워준다.\n",
    "    log_predict = np.log(predicted_values + 1)\n",
    "    log_actual = np.log(actual_values + 1)\n",
    "    \n",
    "    # 위에서 계산한 예측값에서 실제값을 빼주고 제곱을 해준다.\n",
    "    difference = log_predict - log_actual\n",
    "    # difference = (log_predict - log_actual) ** 2\n",
    "    difference = np.square(difference)\n",
    "    \n",
    "    # 평균을 낸다.\n",
    "    mean_difference = difference.mean()\n",
    "    \n",
    "    # 다시 루트를 씌운다.\n",
    "    score = np.sqrt(mean_difference)\n",
    "    \n",
    "    return score\n",
    "\n",
    "rmsle_scorer = make_scorer(rmsle)\n",
    "rmsle_scorer"
   ]
  },
  {
   "cell_type": "code",
   "execution_count": 17,
   "metadata": {
    "ExecuteTime": {
     "end_time": "2021-08-19T07:05:33.178661Z",
     "start_time": "2021-08-19T07:05:33.143658Z"
    }
   },
   "outputs": [
    {
     "name": "stdout",
     "output_type": "stream",
     "text": [
      "0.9803697923313504\n"
     ]
    }
   ],
   "source": [
    "from sklearn.linear_model import LinearRegression, Ridge, Lasso\n",
    "from sklearn.model_selection import GridSearchCV\n",
    "from sklearn import metrics\n",
    "import warnings\n",
    "pd.options.mode.chained_assignment = None\n",
    "warnings.filterwarnings('ignore')\n",
    "\n",
    "lModel = LinearRegression()\n",
    "y_train_log = np.log1p(y_train)\n",
    "lModel.fit(X_train, y_train_log)\n",
    "\n",
    "preds = lModel.predict(X_train)\n",
    "print(rmsle(np.exp(y_train_log), np.exp(preds)))"
   ]
  },
  {
   "cell_type": "code",
   "execution_count": 19,
   "metadata": {
    "ExecuteTime": {
     "end_time": "2021-08-19T07:10:19.773918Z",
     "start_time": "2021-08-19T07:10:18.760920Z"
    }
   },
   "outputs": [
    {
     "name": "stdout",
     "output_type": "stream",
     "text": [
      "{'alpha': 1000, 'max_iter': 3000}\n",
      "RMSLE Value For Ridge Regression:  0.9819438728547794\n"
     ]
    }
   ],
   "source": [
    "ridge_m_ = Ridge()\n",
    "ridge_params_ = {'max_iter':[3000],'alpha':[0.01,0.1,1,2,3,4,10,30,100,200,300,400,800,900,1000]}\n",
    "ridge_scorer = metrics.make_scorer(rmsle, greater_is_better=False)\n",
    "grid_ridge_m = GridSearchCV(ridge_m_,\n",
    "                           ridge_params_,\n",
    "                           scoring=rmsle_scorer,\n",
    "                           cv=5)\n",
    "\n",
    "y_train_log = np.log1p(y_train)\n",
    "grid_ridge_m.fit(X_train, y_train_log)\n",
    "preds = grid_ridge_m.predict(X_train)\n",
    "print (grid_ridge_m.best_params_)\n",
    "print (\"RMSLE Value For Ridge Regression: \", rmsle(np.exp(y_train_log),np.exp(preds)))"
   ]
  },
  {
   "cell_type": "code",
   "execution_count": 28,
   "metadata": {
    "ExecuteTime": {
     "end_time": "2021-08-19T07:14:07.329039Z",
     "start_time": "2021-08-19T07:14:07.297035Z"
    }
   },
   "outputs": [
    {
     "data": {
      "text/html": [
       "<div>\n",
       "<style scoped>\n",
       "    .dataframe tbody tr th:only-of-type {\n",
       "        vertical-align: middle;\n",
       "    }\n",
       "\n",
       "    .dataframe tbody tr th {\n",
       "        vertical-align: top;\n",
       "    }\n",
       "\n",
       "    .dataframe thead th {\n",
       "        text-align: right;\n",
       "    }\n",
       "</style>\n",
       "<table border=\"1\" class=\"dataframe\">\n",
       "  <thead>\n",
       "    <tr style=\"text-align: right;\">\n",
       "      <th></th>\n",
       "      <th>alpha</th>\n",
       "      <th>rmsle</th>\n",
       "    </tr>\n",
       "  </thead>\n",
       "  <tbody>\n",
       "    <tr>\n",
       "      <th>0</th>\n",
       "      <td>0.01</td>\n",
       "      <td>0.232174</td>\n",
       "    </tr>\n",
       "    <tr>\n",
       "      <th>1</th>\n",
       "      <td>0.10</td>\n",
       "      <td>0.232174</td>\n",
       "    </tr>\n",
       "    <tr>\n",
       "      <th>2</th>\n",
       "      <td>1.00</td>\n",
       "      <td>0.232176</td>\n",
       "    </tr>\n",
       "    <tr>\n",
       "      <th>3</th>\n",
       "      <td>2.00</td>\n",
       "      <td>0.232177</td>\n",
       "    </tr>\n",
       "    <tr>\n",
       "      <th>4</th>\n",
       "      <td>3.00</td>\n",
       "      <td>0.232179</td>\n",
       "    </tr>\n",
       "  </tbody>\n",
       "</table>\n",
       "</div>"
      ],
      "text/plain": [
       "   alpha     rmsle\n",
       "0   0.01  0.232174\n",
       "1   0.10  0.232174\n",
       "2   1.00  0.232176\n",
       "3   2.00  0.232177\n",
       "4   3.00  0.232179"
      ]
     },
     "execution_count": 28,
     "metadata": {},
     "output_type": "execute_result"
    }
   ],
   "source": [
    "df = pd.DataFrame(grid_ridge_m.cv_results_)\n",
    "df[\"alpha\"] = df[\"params\"].apply(lambda x:x[\"alpha\"])\n",
    "df[\"rmsle\"] = df[\"mean_test_score\"].apply(lambda x:-x)\n",
    "df[[\"alpha\", \"rmsle\"]].head()"
   ]
  },
  {
   "cell_type": "code",
   "execution_count": 26,
   "metadata": {
    "ExecuteTime": {
     "end_time": "2021-08-19T07:13:08.778657Z",
     "start_time": "2021-08-19T07:13:07.487690Z"
    }
   },
   "outputs": [
    {
     "name": "stdout",
     "output_type": "stream",
     "text": [
      "{'alpha': 0.01, 'max_iter': 3000}\n",
      "RMSLE Value For Ridge Regression:  0.9803697902780806\n"
     ]
    },
    {
     "data": {
      "text/html": [
       "<div>\n",
       "<style scoped>\n",
       "    .dataframe tbody tr th:only-of-type {\n",
       "        vertical-align: middle;\n",
       "    }\n",
       "\n",
       "    .dataframe tbody tr th {\n",
       "        vertical-align: top;\n",
       "    }\n",
       "\n",
       "    .dataframe thead th {\n",
       "        text-align: right;\n",
       "    }\n",
       "</style>\n",
       "<table border=\"1\" class=\"dataframe\">\n",
       "  <thead>\n",
       "    <tr style=\"text-align: right;\">\n",
       "      <th></th>\n",
       "      <th>mean_fit_time</th>\n",
       "      <th>std_fit_time</th>\n",
       "      <th>mean_score_time</th>\n",
       "      <th>std_score_time</th>\n",
       "      <th>param_alpha</th>\n",
       "      <th>param_max_iter</th>\n",
       "      <th>params</th>\n",
       "      <th>split0_test_score</th>\n",
       "      <th>split1_test_score</th>\n",
       "      <th>split2_test_score</th>\n",
       "      <th>split3_test_score</th>\n",
       "      <th>split4_test_score</th>\n",
       "      <th>mean_test_score</th>\n",
       "      <th>std_test_score</th>\n",
       "      <th>rank_test_score</th>\n",
       "    </tr>\n",
       "  </thead>\n",
       "  <tbody>\n",
       "    <tr>\n",
       "      <th>0</th>\n",
       "      <td>0.015194</td>\n",
       "      <td>0.004713</td>\n",
       "      <td>0.005405</td>\n",
       "      <td>0.001498</td>\n",
       "      <td>0.01</td>\n",
       "      <td>3000</td>\n",
       "      <td>{'alpha': 0.01, 'max_iter': 3000}</td>\n",
       "      <td>-0.269563</td>\n",
       "      <td>-0.208115</td>\n",
       "      <td>-0.253182</td>\n",
       "      <td>-0.222773</td>\n",
       "      <td>-0.207235</td>\n",
       "      <td>-0.232174</td>\n",
       "      <td>0.025014</td>\n",
       "      <td>1</td>\n",
       "    </tr>\n",
       "    <tr>\n",
       "      <th>1</th>\n",
       "      <td>0.007808</td>\n",
       "      <td>0.000747</td>\n",
       "      <td>0.003992</td>\n",
       "      <td>0.001089</td>\n",
       "      <td>0.1</td>\n",
       "      <td>3000</td>\n",
       "      <td>{'alpha': 0.1, 'max_iter': 3000}</td>\n",
       "      <td>-0.269565</td>\n",
       "      <td>-0.208115</td>\n",
       "      <td>-0.253182</td>\n",
       "      <td>-0.222773</td>\n",
       "      <td>-0.207234</td>\n",
       "      <td>-0.232174</td>\n",
       "      <td>0.025014</td>\n",
       "      <td>2</td>\n",
       "    </tr>\n",
       "    <tr>\n",
       "      <th>2</th>\n",
       "      <td>0.008998</td>\n",
       "      <td>0.001553</td>\n",
       "      <td>0.002997</td>\n",
       "      <td>0.000002</td>\n",
       "      <td>1</td>\n",
       "      <td>3000</td>\n",
       "      <td>{'alpha': 1, 'max_iter': 3000}</td>\n",
       "      <td>-0.269576</td>\n",
       "      <td>-0.208120</td>\n",
       "      <td>-0.253181</td>\n",
       "      <td>-0.222769</td>\n",
       "      <td>-0.207231</td>\n",
       "      <td>-0.232176</td>\n",
       "      <td>0.025018</td>\n",
       "      <td>3</td>\n",
       "    </tr>\n",
       "    <tr>\n",
       "      <th>3</th>\n",
       "      <td>0.013012</td>\n",
       "      <td>0.005380</td>\n",
       "      <td>0.004588</td>\n",
       "      <td>0.001856</td>\n",
       "      <td>2</td>\n",
       "      <td>3000</td>\n",
       "      <td>{'alpha': 2, 'max_iter': 3000}</td>\n",
       "      <td>-0.269589</td>\n",
       "      <td>-0.208125</td>\n",
       "      <td>-0.253180</td>\n",
       "      <td>-0.222765</td>\n",
       "      <td>-0.207227</td>\n",
       "      <td>-0.232177</td>\n",
       "      <td>0.025021</td>\n",
       "      <td>4</td>\n",
       "    </tr>\n",
       "    <tr>\n",
       "      <th>4</th>\n",
       "      <td>0.013801</td>\n",
       "      <td>0.000402</td>\n",
       "      <td>0.005399</td>\n",
       "      <td>0.003382</td>\n",
       "      <td>3</td>\n",
       "      <td>3000</td>\n",
       "      <td>{'alpha': 3, 'max_iter': 3000}</td>\n",
       "      <td>-0.269602</td>\n",
       "      <td>-0.208130</td>\n",
       "      <td>-0.253179</td>\n",
       "      <td>-0.222761</td>\n",
       "      <td>-0.207223</td>\n",
       "      <td>-0.232179</td>\n",
       "      <td>0.025025</td>\n",
       "      <td>5</td>\n",
       "    </tr>\n",
       "  </tbody>\n",
       "</table>\n",
       "</div>"
      ],
      "text/plain": [
       "   mean_fit_time  std_fit_time  mean_score_time  std_score_time param_alpha  \\\n",
       "0       0.015194      0.004713         0.005405        0.001498        0.01   \n",
       "1       0.007808      0.000747         0.003992        0.001089         0.1   \n",
       "2       0.008998      0.001553         0.002997        0.000002           1   \n",
       "3       0.013012      0.005380         0.004588        0.001856           2   \n",
       "4       0.013801      0.000402         0.005399        0.003382           3   \n",
       "\n",
       "  param_max_iter                             params  split0_test_score  \\\n",
       "0           3000  {'alpha': 0.01, 'max_iter': 3000}          -0.269563   \n",
       "1           3000   {'alpha': 0.1, 'max_iter': 3000}          -0.269565   \n",
       "2           3000     {'alpha': 1, 'max_iter': 3000}          -0.269576   \n",
       "3           3000     {'alpha': 2, 'max_iter': 3000}          -0.269589   \n",
       "4           3000     {'alpha': 3, 'max_iter': 3000}          -0.269602   \n",
       "\n",
       "   split1_test_score  split2_test_score  split3_test_score  split4_test_score  \\\n",
       "0          -0.208115          -0.253182          -0.222773          -0.207235   \n",
       "1          -0.208115          -0.253182          -0.222773          -0.207234   \n",
       "2          -0.208120          -0.253181          -0.222769          -0.207231   \n",
       "3          -0.208125          -0.253180          -0.222765          -0.207227   \n",
       "4          -0.208130          -0.253179          -0.222761          -0.207223   \n",
       "\n",
       "   mean_test_score  std_test_score  rank_test_score  \n",
       "0        -0.232174        0.025014                1  \n",
       "1        -0.232174        0.025014                2  \n",
       "2        -0.232176        0.025018                3  \n",
       "3        -0.232177        0.025021                4  \n",
       "4        -0.232179        0.025025                5  "
      ]
     },
     "execution_count": 26,
     "metadata": {},
     "output_type": "execute_result"
    }
   ],
   "source": [
    "ridge_m_ = Ridge()\n",
    "ridge_params_ = { 'max_iter':[3000],'alpha':[0.01, 0.1, 1, 2, 3, 4, 10, 30,100,200,300,400,800,900,1000]}\n",
    "rmsle_scorer = metrics.make_scorer(rmsle, greater_is_better=False)\n",
    "grid_ridge_m = GridSearchCV( ridge_m_,\n",
    "                          ridge_params_,\n",
    "                          scoring = rmsle_scorer,\n",
    "                          cv=5)\n",
    "\n",
    "y_train_log = np.log1p(y_train)\n",
    "grid_ridge_m.fit( X_train, y_train_log )\n",
    "preds = grid_ridge_m.predict(X_train)\n",
    "print (grid_ridge_m.best_params_)\n",
    "print (\"RMSLE Value For Ridge Regression: \", rmsle(np.exp(y_train_log),np.exp(preds)))\n",
    "\n",
    "df = pd.DataFrame(grid_ridge_m.cv_results_)\n",
    "df.head()"
   ]
  },
  {
   "cell_type": "code",
   "execution_count": 27,
   "metadata": {
    "ExecuteTime": {
     "end_time": "2021-08-19T07:13:14.655826Z",
     "start_time": "2021-08-19T07:13:14.632842Z"
    }
   },
   "outputs": [
    {
     "data": {
      "text/html": [
       "<div>\n",
       "<style scoped>\n",
       "    .dataframe tbody tr th:only-of-type {\n",
       "        vertical-align: middle;\n",
       "    }\n",
       "\n",
       "    .dataframe tbody tr th {\n",
       "        vertical-align: top;\n",
       "    }\n",
       "\n",
       "    .dataframe thead th {\n",
       "        text-align: right;\n",
       "    }\n",
       "</style>\n",
       "<table border=\"1\" class=\"dataframe\">\n",
       "  <thead>\n",
       "    <tr style=\"text-align: right;\">\n",
       "      <th></th>\n",
       "      <th>alpha</th>\n",
       "      <th>rmsle</th>\n",
       "    </tr>\n",
       "  </thead>\n",
       "  <tbody>\n",
       "    <tr>\n",
       "      <th>0</th>\n",
       "      <td>0.01</td>\n",
       "      <td>0.232174</td>\n",
       "    </tr>\n",
       "    <tr>\n",
       "      <th>1</th>\n",
       "      <td>0.10</td>\n",
       "      <td>0.232174</td>\n",
       "    </tr>\n",
       "    <tr>\n",
       "      <th>2</th>\n",
       "      <td>1.00</td>\n",
       "      <td>0.232176</td>\n",
       "    </tr>\n",
       "    <tr>\n",
       "      <th>3</th>\n",
       "      <td>2.00</td>\n",
       "      <td>0.232177</td>\n",
       "    </tr>\n",
       "    <tr>\n",
       "      <th>4</th>\n",
       "      <td>3.00</td>\n",
       "      <td>0.232179</td>\n",
       "    </tr>\n",
       "  </tbody>\n",
       "</table>\n",
       "</div>"
      ],
      "text/plain": [
       "   alpha     rmsle\n",
       "0   0.01  0.232174\n",
       "1   0.10  0.232174\n",
       "2   1.00  0.232176\n",
       "3   2.00  0.232177\n",
       "4   3.00  0.232179"
      ]
     },
     "execution_count": 27,
     "metadata": {},
     "output_type": "execute_result"
    }
   ],
   "source": [
    "df[\"alpha\"] = df[\"params\"].apply(lambda x:x[\"alpha\"])\n",
    "df[\"rmsle\"] = df[\"mean_test_score\"].apply(lambda x:-x)\n",
    "df[[\"alpha\", \"rmsle\"]].head()"
   ]
  },
  {
   "cell_type": "code",
   "execution_count": 29,
   "metadata": {
    "ExecuteTime": {
     "end_time": "2021-08-19T07:14:28.059212Z",
     "start_time": "2021-08-19T07:14:27.329699Z"
    }
   },
   "outputs": [
    {
     "data": {
      "text/plain": [
       "<AxesSubplot:xlabel='alpha', ylabel='rmsle'>"
      ]
     },
     "execution_count": 29,
     "metadata": {},
     "output_type": "execute_result"
    },
    {
     "data": {
      "image/png": "[encoded data removed]",
      "text/plain": [
       "<Figure size 864x360 with 1 Axes>"
      ]
     },
     "metadata": {
      "needs_background": "light"
     },
     "output_type": "display_data"
    }
   ],
   "source": [
    "fig,ax= plt.subplots()\n",
    "fig.set_size_inches(12,5)\n",
    "plt.xticks(rotation=30, ha='right')\n",
    "sns.pointplot(data=df,x=\"alpha\",y=\"rmsle\",ax=ax)"
   ]
  },
  {
   "cell_type": "code",
   "execution_count": 32,
   "metadata": {
    "ExecuteTime": {
     "end_time": "2021-08-19T07:20:57.219391Z",
     "start_time": "2021-08-19T07:20:55.609392Z"
    }
   },
   "outputs": [
    {
     "name": "stdout",
     "output_type": "stream",
     "text": [
      "{'alpha': 0.001, 'max_iter': 3000}\n",
      "RMSLE Value For lasso Regression:  0.9803736954998871\n"
     ]
    },
    {
     "data": {
      "text/html": [
       "<div>\n",
       "<style scoped>\n",
       "    .dataframe tbody tr th:only-of-type {\n",
       "        vertical-align: middle;\n",
       "    }\n",
       "\n",
       "    .dataframe tbody tr th {\n",
       "        vertical-align: top;\n",
       "    }\n",
       "\n",
       "    .dataframe thead th {\n",
       "        text-align: right;\n",
       "    }\n",
       "</style>\n",
       "<table border=\"1\" class=\"dataframe\">\n",
       "  <thead>\n",
       "    <tr style=\"text-align: right;\">\n",
       "      <th></th>\n",
       "      <th>mean_fit_time</th>\n",
       "      <th>std_fit_time</th>\n",
       "      <th>mean_score_time</th>\n",
       "      <th>std_score_time</th>\n",
       "      <th>param_alpha</th>\n",
       "      <th>param_max_iter</th>\n",
       "      <th>params</th>\n",
       "      <th>split0_test_score</th>\n",
       "      <th>split1_test_score</th>\n",
       "      <th>split2_test_score</th>\n",
       "      <th>split3_test_score</th>\n",
       "      <th>split4_test_score</th>\n",
       "      <th>mean_test_score</th>\n",
       "      <th>std_test_score</th>\n",
       "      <th>rank_test_score</th>\n",
       "    </tr>\n",
       "  </thead>\n",
       "  <tbody>\n",
       "    <tr>\n",
       "      <th>0</th>\n",
       "      <td>0.015403</td>\n",
       "      <td>0.003612</td>\n",
       "      <td>0.005799</td>\n",
       "      <td>0.001944</td>\n",
       "      <td>10</td>\n",
       "      <td>3000</td>\n",
       "      <td>{'alpha': 10.0, 'max_iter': 3000}</td>\n",
       "      <td>-0.396253</td>\n",
       "      <td>-0.281136</td>\n",
       "      <td>-0.336539</td>\n",
       "      <td>-0.293402</td>\n",
       "      <td>-0.279405</td>\n",
       "      <td>-0.317347</td>\n",
       "      <td>0.044539</td>\n",
       "      <td>14</td>\n",
       "    </tr>\n",
       "    <tr>\n",
       "      <th>1</th>\n",
       "      <td>0.010797</td>\n",
       "      <td>0.002043</td>\n",
       "      <td>0.003798</td>\n",
       "      <td>0.000979</td>\n",
       "      <td>1</td>\n",
       "      <td>3000</td>\n",
       "      <td>{'alpha': 1.0, 'max_iter': 3000}</td>\n",
       "      <td>-0.328275</td>\n",
       "      <td>-0.225212</td>\n",
       "      <td>-0.260999</td>\n",
       "      <td>-0.223852</td>\n",
       "      <td>-0.221538</td>\n",
       "      <td>-0.251975</td>\n",
       "      <td>0.040833</td>\n",
       "      <td>13</td>\n",
       "    </tr>\n",
       "    <tr>\n",
       "      <th>2</th>\n",
       "      <td>0.012200</td>\n",
       "      <td>0.001166</td>\n",
       "      <td>0.003401</td>\n",
       "      <td>0.000800</td>\n",
       "      <td>0.5</td>\n",
       "      <td>3000</td>\n",
       "      <td>{'alpha': 0.5, 'max_iter': 3000}</td>\n",
       "      <td>-0.317931</td>\n",
       "      <td>-0.224863</td>\n",
       "      <td>-0.256118</td>\n",
       "      <td>-0.220462</td>\n",
       "      <td>-0.219943</td>\n",
       "      <td>-0.247863</td>\n",
       "      <td>0.037515</td>\n",
       "      <td>12</td>\n",
       "    </tr>\n",
       "    <tr>\n",
       "      <th>3</th>\n",
       "      <td>0.013994</td>\n",
       "      <td>0.002355</td>\n",
       "      <td>0.004608</td>\n",
       "      <td>0.001024</td>\n",
       "      <td>0.333333</td>\n",
       "      <td>3000</td>\n",
       "      <td>{'alpha': 0.3333333333333333, 'max_iter': 3000}</td>\n",
       "      <td>-0.314600</td>\n",
       "      <td>-0.225125</td>\n",
       "      <td>-0.254794</td>\n",
       "      <td>-0.219569</td>\n",
       "      <td>-0.219675</td>\n",
       "      <td>-0.246753</td>\n",
       "      <td>0.036354</td>\n",
       "      <td>11</td>\n",
       "    </tr>\n",
       "    <tr>\n",
       "      <th>4</th>\n",
       "      <td>0.014390</td>\n",
       "      <td>0.003502</td>\n",
       "      <td>0.004610</td>\n",
       "      <td>0.001025</td>\n",
       "      <td>0.25</td>\n",
       "      <td>3000</td>\n",
       "      <td>{'alpha': 0.25, 'max_iter': 3000}</td>\n",
       "      <td>-0.312960</td>\n",
       "      <td>-0.225301</td>\n",
       "      <td>-0.254182</td>\n",
       "      <td>-0.219231</td>\n",
       "      <td>-0.219591</td>\n",
       "      <td>-0.246253</td>\n",
       "      <td>0.035757</td>\n",
       "      <td>10</td>\n",
       "    </tr>\n",
       "  </tbody>\n",
       "</table>\n",
       "</div>"
      ],
      "text/plain": [
       "   mean_fit_time  std_fit_time  mean_score_time  std_score_time param_alpha  \\\n",
       "0       0.015403      0.003612         0.005799        0.001944          10   \n",
       "1       0.010797      0.002043         0.003798        0.000979           1   \n",
       "2       0.012200      0.001166         0.003401        0.000800         0.5   \n",
       "3       0.013994      0.002355         0.004608        0.001024    0.333333   \n",
       "4       0.014390      0.003502         0.004610        0.001025        0.25   \n",
       "\n",
       "  param_max_iter                                           params  \\\n",
       "0           3000                {'alpha': 10.0, 'max_iter': 3000}   \n",
       "1           3000                 {'alpha': 1.0, 'max_iter': 3000}   \n",
       "2           3000                 {'alpha': 0.5, 'max_iter': 3000}   \n",
       "3           3000  {'alpha': 0.3333333333333333, 'max_iter': 3000}   \n",
       "4           3000                {'alpha': 0.25, 'max_iter': 3000}   \n",
       "\n",
       "   split0_test_score  split1_test_score  split2_test_score  split3_test_score  \\\n",
       "0          -0.396253          -0.281136          -0.336539          -0.293402   \n",
       "1          -0.328275          -0.225212          -0.260999          -0.223852   \n",
       "2          -0.317931          -0.224863          -0.256118          -0.220462   \n",
       "3          -0.314600          -0.225125          -0.254794          -0.219569   \n",
       "4          -0.312960          -0.225301          -0.254182          -0.219231   \n",
       "\n",
       "   split4_test_score  mean_test_score  std_test_score  rank_test_score  \n",
       "0          -0.279405        -0.317347        0.044539               14  \n",
       "1          -0.221538        -0.251975        0.040833               13  \n",
       "2          -0.219943        -0.247863        0.037515               12  \n",
       "3          -0.219675        -0.246753        0.036354               11  \n",
       "4          -0.219591        -0.246253        0.035757               10  "
      ]
     },
     "execution_count": 32,
     "metadata": {},
     "output_type": "execute_result"
    }
   ],
   "source": [
    "lasso_m_ = Lasso()\n",
    "alpha = 1/np.array([0.1, 1, 2, 3, 4, 10, 30,100,200,300,400,800,900,1000])\n",
    "lasso_params_ = {'max_iter':[3000],'alpha':alpha}\n",
    "\n",
    "grid_lasso_m_ = GridSearchCV(lasso_m_, lasso_params_, scoring=rmsle_scorer, cv=5)\n",
    "y_train_log = np.log1p(y_train)\n",
    "grid_lasso_m_.fit( X_train, y_train_log )\n",
    "\n",
    "preds = grid_lasso_m_.predict(X_train)\n",
    "print (grid_lasso_m_.best_params_)\n",
    "print (\"RMSLE Value For lasso Regression: \", rmsle(np.exp(y_train_log),np.exp(preds)))\n",
    "\n",
    "df = pd.DataFrame(grid_lasso_m_.cv_results_)\n",
    "df.head()"
   ]
  },
  {
   "cell_type": "code",
   "execution_count": 33,
   "metadata": {
    "ExecuteTime": {
     "end_time": "2021-08-19T07:21:17.575136Z",
     "start_time": "2021-08-19T07:21:17.555130Z"
    }
   },
   "outputs": [
    {
     "data": {
      "text/html": [
       "<div>\n",
       "<style scoped>\n",
       "    .dataframe tbody tr th:only-of-type {\n",
       "        vertical-align: middle;\n",
       "    }\n",
       "\n",
       "    .dataframe tbody tr th {\n",
       "        vertical-align: top;\n",
       "    }\n",
       "\n",
       "    .dataframe thead th {\n",
       "        text-align: right;\n",
       "    }\n",
       "</style>\n",
       "<table border=\"1\" class=\"dataframe\">\n",
       "  <thead>\n",
       "    <tr style=\"text-align: right;\">\n",
       "      <th></th>\n",
       "      <th>alpha</th>\n",
       "      <th>rmsle</th>\n",
       "    </tr>\n",
       "  </thead>\n",
       "  <tbody>\n",
       "    <tr>\n",
       "      <th>0</th>\n",
       "      <td>10.000000</td>\n",
       "      <td>0.317347</td>\n",
       "    </tr>\n",
       "    <tr>\n",
       "      <th>1</th>\n",
       "      <td>1.000000</td>\n",
       "      <td>0.251975</td>\n",
       "    </tr>\n",
       "    <tr>\n",
       "      <th>2</th>\n",
       "      <td>0.500000</td>\n",
       "      <td>0.247863</td>\n",
       "    </tr>\n",
       "    <tr>\n",
       "      <th>3</th>\n",
       "      <td>0.333333</td>\n",
       "      <td>0.246753</td>\n",
       "    </tr>\n",
       "    <tr>\n",
       "      <th>4</th>\n",
       "      <td>0.250000</td>\n",
       "      <td>0.246253</td>\n",
       "    </tr>\n",
       "  </tbody>\n",
       "</table>\n",
       "</div>"
      ],
      "text/plain": [
       "       alpha     rmsle\n",
       "0  10.000000  0.317347\n",
       "1   1.000000  0.251975\n",
       "2   0.500000  0.247863\n",
       "3   0.333333  0.246753\n",
       "4   0.250000  0.246253"
      ]
     },
     "execution_count": 33,
     "metadata": {},
     "output_type": "execute_result"
    }
   ],
   "source": [
    "df[\"alpha\"] = df[\"params\"].apply(lambda x:x[\"alpha\"])\n",
    "df[\"rmsle\"] = df[\"mean_test_score\"].apply(lambda x:-x)\n",
    "\n",
    "df[[\"alpha\", \"rmsle\"]].head()"
   ]
  },
  {
   "cell_type": "code",
   "execution_count": 34,
   "metadata": {
    "ExecuteTime": {
     "end_time": "2021-08-19T07:21:29.827051Z",
     "start_time": "2021-08-19T07:21:29.184053Z"
    }
   },
   "outputs": [
    {
     "data": {
      "text/plain": [
       "<AxesSubplot:xlabel='alpha', ylabel='rmsle'>"
      ]
     },
     "execution_count": 34,
     "metadata": {},
     "output_type": "execute_result"
    },
    {
     "data": {
      "image/png": "[encoded data removed]",
      "text/plain": [
       "<Figure size 864x360 with 1 Axes>"
      ]
     },
     "metadata": {
      "needs_background": "light"
     },
     "output_type": "display_data"
    }
   ],
   "source": [
    "fig,ax= plt.subplots()\n",
    "fig.set_size_inches(12,5)\n",
    "plt.xticks(rotation=30, ha='right')\n",
    "sns.pointplot(data=df,x=\"alpha\",y=\"rmsle\",ax=ax)"
   ]
  },
  {
   "cell_type": "code",
   "execution_count": 36,
   "metadata": {
    "ExecuteTime": {
     "end_time": "2021-08-19T07:23:16.570867Z",
     "start_time": "2021-08-19T07:23:10.881764Z"
    }
   },
   "outputs": [
    {
     "name": "stdout",
     "output_type": "stream",
     "text": [
      "RMSLE Value For RandomForest:  0.10693998698978507\n"
     ]
    }
   ],
   "source": [
    "from sklearn.ensemble import RandomForestRegressor\n",
    "rfModel = RandomForestRegressor(n_estimators=100)\n",
    "\n",
    "y_train_log = np.log1p(y_train)\n",
    "rfModel.fit(X_train, y_train_log)\n",
    "\n",
    "preds = rfModel.predict(X_train)\n",
    "print (\"RMSLE Value For RandomForest: \", rmsle(np.exp(y_train_log),np.exp(preds)))"
   ]
  },
  {
   "cell_type": "code",
   "execution_count": 37,
   "metadata": {
    "ExecuteTime": {
     "end_time": "2021-08-19T07:26:10.561297Z",
     "start_time": "2021-08-19T07:25:22.688336Z"
    }
   },
   "outputs": [
    {
     "name": "stdout",
     "output_type": "stream",
     "text": [
      "RMSLE Value For Gradient Boost:  0.2135740372784033\n"
     ]
    }
   ],
   "source": [
    "from sklearn.ensemble import GradientBoostingRegressor\n",
    "gbm = GradientBoostingRegressor(n_estimators=4000, alpha=0.01);\n",
    "\n",
    "y_train_log = np.log1p(y_train)\n",
    "gbm.fit(X_train, y_train_log)\n",
    "\n",
    "preds = gbm.predict(X_train)\n",
    "print (\"RMSLE Value For Gradient Boost: \", rmsle(np.exp(y_train_log),np.exp(preds)))"
   ]
  },
  {
   "cell_type": "code",
   "execution_count": 38,
   "metadata": {
    "ExecuteTime": {
     "end_time": "2021-08-19T07:26:11.983831Z",
     "start_time": "2021-08-19T07:26:10.566293Z"
    }
   },
   "outputs": [
    {
     "data": {
      "text/plain": [
       "<AxesSubplot:ylabel='Density'>"
      ]
     },
     "execution_count": 38,
     "metadata": {},
     "output_type": "execute_result"
    },
    {
     "data": {
      "image/png": "[encoded data removed]",
      "text/plain": [
       "<Figure size 864x360 with 2 Axes>"
      ]
     },
     "metadata": {
      "needs_background": "light"
     },
     "output_type": "display_data"
    }
   ],
   "source": [
    "predsTest = gbm.predict(X_test)\n",
    "fig,(ax1,ax2)= plt.subplots(ncols=2)\n",
    "fig.set_size_inches(12,5)\n",
    "sns.distplot(y_train,ax=ax1,bins=50)\n",
    "sns.distplot(np.exp(predsTest),ax=ax2,bins=50)"
   ]
  },
  {
   "cell_type": "code",
   "execution_count": 40,
   "metadata": {
    "ExecuteTime": {
     "end_time": "2021-08-19T07:26:43.380981Z",
     "start_time": "2021-08-19T07:26:43.344948Z"
    }
   },
   "outputs": [
    {
     "name": "stdout",
     "output_type": "stream",
     "text": [
      "(6493, 2)\n"
     ]
    },
    {
     "data": {
      "text/html": [
       "<div>\n",
       "<style scoped>\n",
       "    .dataframe tbody tr th:only-of-type {\n",
       "        vertical-align: middle;\n",
       "    }\n",
       "\n",
       "    .dataframe tbody tr th {\n",
       "        vertical-align: top;\n",
       "    }\n",
       "\n",
       "    .dataframe thead th {\n",
       "        text-align: right;\n",
       "    }\n",
       "</style>\n",
       "<table border=\"1\" class=\"dataframe\">\n",
       "  <thead>\n",
       "    <tr style=\"text-align: right;\">\n",
       "      <th></th>\n",
       "      <th>datetime</th>\n",
       "      <th>count</th>\n",
       "    </tr>\n",
       "  </thead>\n",
       "  <tbody>\n",
       "    <tr>\n",
       "      <th>0</th>\n",
       "      <td>2011-01-20 00:00:00</td>\n",
       "      <td>11.227543</td>\n",
       "    </tr>\n",
       "    <tr>\n",
       "      <th>1</th>\n",
       "      <td>2011-01-20 01:00:00</td>\n",
       "      <td>6.296610</td>\n",
       "    </tr>\n",
       "    <tr>\n",
       "      <th>2</th>\n",
       "      <td>2011-01-20 02:00:00</td>\n",
       "      <td>4.259238</td>\n",
       "    </tr>\n",
       "    <tr>\n",
       "      <th>3</th>\n",
       "      <td>2011-01-20 03:00:00</td>\n",
       "      <td>2.666615</td>\n",
       "    </tr>\n",
       "    <tr>\n",
       "      <th>4</th>\n",
       "      <td>2011-01-20 04:00:00</td>\n",
       "      <td>2.295918</td>\n",
       "    </tr>\n",
       "  </tbody>\n",
       "</table>\n",
       "</div>"
      ],
      "text/plain": [
       "              datetime      count\n",
       "0  2011-01-20 00:00:00  11.227543\n",
       "1  2011-01-20 01:00:00   6.296610\n",
       "2  2011-01-20 02:00:00   4.259238\n",
       "3  2011-01-20 03:00:00   2.666615\n",
       "4  2011-01-20 04:00:00   2.295918"
      ]
     },
     "execution_count": 40,
     "metadata": {},
     "output_type": "execute_result"
    }
   ],
   "source": [
    "submission = pd.read_csv(\"sampleSubmission.csv\")\n",
    "submission\n",
    "\n",
    "submission[\"count\"] = np.exp(predsTest)\n",
    "\n",
    "print(submission.shape)\n",
    "submission.head()"
   ]
  },
  {
   "cell_type": "code",
   "execution_count": 42,
   "metadata": {
    "ExecuteTime": {
     "end_time": "2021-08-19T07:27:44.784082Z",
     "start_time": "2021-08-19T07:27:44.723085Z"
    }
   },
   "outputs": [],
   "source": [
    "submission.to_csv(f\"submission.csv\", index=False)"
   ]
  },
  {
   "cell_type": "code",
   "execution_count": null,
   "metadata": {},
   "outputs": [],
   "source": []
  }
 ],
 "metadata": {
  "kernelspec": {
   "display_name": "Python 3",
   "language": "python",
   "name": "python3"
  },
  "language_info": {
   "codemirror_mode": {
    "name": "ipython",
    "version": 3
   },
   "file_extension": ".py",
   "mimetype": "text/x-python",
   "name": "python",
   "nbconvert_exporter": "python",
   "pygments_lexer": "ipython3",
   "version": "3.8.5"
  }
 },
 "nbformat": 4,
 "nbformat_minor": 4
}
